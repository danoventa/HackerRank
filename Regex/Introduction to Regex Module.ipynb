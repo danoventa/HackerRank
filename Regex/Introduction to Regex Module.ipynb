{
 "cells": [
  {
   "cell_type": "code",
   "execution_count": 48,
   "metadata": {
    "collapsed": true
   },
   "outputs": [],
   "source": [
    "import re"
   ]
  },
  {
   "cell_type": "code",
   "execution_count": 69,
   "metadata": {
    "collapsed": false
   },
   "outputs": [
    {
     "name": "stdout",
     "output_type": "stream",
     "text": [
      "False\n",
      "True\n",
      "False\n",
      "True\n",
      "False\n",
      "True\n",
      "False\n",
      "True\n",
      "False\n"
     ]
    }
   ],
   "source": [
    "str_list = [\"+2^3\",\"99.2\",\"3^3\",\"-1.123\",\"-22~0\", \"+1.3\",\"+02~12\",\"4.4\",\"1~01\"]\n",
    "str_test = [\"False\", \"True\", \"False\", \"True\", \"False\", \"True\", \"False\", \"True\", \"False\"]\n",
    "\n",
    "debug = False\n",
    "if(debug == True):\n",
    "    test_result = []\n",
    "    test_list = []\n",
    "\n",
    "for ind in range(len(str_list)):\n",
    "    substring = re.match(r'[+-]?[\\d]*.\\d+$', str_list[ind])\n",
    "    if substring:\n",
    "        try:\n",
    "            float(substring.group())\n",
    "            if(debug == True):\n",
    "                test_list.append(\"True\")\n",
    "            print(\"True\")\n",
    "        except:\n",
    "            if(debug==True):\n",
    "                test_list.append(\"False\")\n",
    "            print(\"False\")\n",
    "    else:\n",
    "        if(debug==True):\n",
    "            test_list.append(\"False\")\n",
    "        print(\"False\")\n",
    "    \n",
    "    if(debug==True):\n",
    "        test_result.append(\"Case \" + str(ind) + \" passed? \" + str(test_list[ind] == str_test[ind]))\n",
    "        print(test_result[ind])"
   ]
  },
  {
   "cell_type": "code",
   "execution_count": null,
   "metadata": {
    "collapsed": true
   },
   "outputs": [],
   "source": []
  },
  {
   "cell_type": "code",
   "execution_count": null,
   "metadata": {
    "collapsed": true
   },
   "outputs": [],
   "source": []
  }
 ],
 "metadata": {
  "kernelspec": {
   "display_name": "Python [Root]",
   "language": "python",
   "name": "Python [Root]"
  },
  "language_info": {
   "codemirror_mode": {
    "name": "ipython",
    "version": 3
   },
   "file_extension": ".py",
   "mimetype": "text/x-python",
   "name": "python",
   "nbconvert_exporter": "python",
   "pygments_lexer": "ipython3",
   "version": "3.5.2"
  }
 },
 "nbformat": 4,
 "nbformat_minor": 0
}
